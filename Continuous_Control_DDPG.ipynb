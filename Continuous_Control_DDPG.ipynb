{
 "cells": [
  {
   "cell_type": "markdown",
   "metadata": {},
   "source": [
    "# Continuous Control\n",
    "\n",
    "---\n",
    "\n",
    "In this notebook, you will learn how to use the Unity ML-Agents environment for the second project of the [Deep Reinforcement Learning Nanodegree](https://www.udacity.com/course/deep-reinforcement-learning-nanodegree--nd893) program.\n",
    "\n",
    "### 1. Start the Environment\n",
    "\n",
    "We begin by importing the necessary packages.  If the code cell below returns an error, please revisit the project instructions to double-check that you have installed [Unity ML-Agents](https://github.com/Unity-Technologies/ml-agents/blob/master/docs/Installation.md) and [NumPy](http://www.numpy.org/).\n",
    "\n",
    "\n",
    "\n",
    "# ideas if these fial:\n",
    "### drop param counts\n",
    "### change lr\n",
    "### keep trying random restarts.\n",
    "\n",
    "\n",
    "\n",
    "# say in report\n",
    "\n",
    "an issue faced was initialization. the weights were intiialized to values that made the arm swing round and round at max radius so it never hit the blal it seemed. after i changed that, it seemed fine! hmm... can sya in report.\n",
    "\n",
    "to say in report: state preprocessing, action reducing to like smalelr amts.\n",
    "small replay bufer??\n",
    "experience more, update less but in one chunk.\n",
    "simple architecrture cuz i think simple prob.\n",
    "\n",
    "how did we discourage flailing?\n",
    "\n",
    "ok we adapted this from one of the codes (bipedal). changed noise to normal and not ou. cuz ou keeps giving positive, not negative. bad. and also we dampened the actions and the noise. a lot. \n",
    "\n",
    "clip actions so it forcefully don't flail\n",
    "\n",
    "move rewards to -0.05 to 0.05 instead of 0 to 0.1??\n",
    "\n",
    "oh by measuring the distance and using that as reward? we turn a sparse problem into a non sparse one. more feedback, easier learn.\n",
    "\n",
    "\n",
    "# info we've gotten\n",
    "action has 4 dims. first 2 correspond to first joint (nearer to the \"shoulder\"), next 2 correspond to sedcond joint \"elbow\".\n",
    "1 and 3 correspond to movement in vertical-ish axis. 2 and 4 for horizontal-ish.\n",
    "seems that all can be clipped to 0.3 with no real harm.\n",
    "episode has 1000 time steps. so ur agent has to be inside for 300 of the timesteps.\n",
    "\n",
    "state 13 and 15 are the position of the arm horizontally. 14 is vertical.\n",
    "26 and 27 (post processing) are position of ball. horizontally.\n",
    "\n",
    "at its highest possible speed, the ball moves about 0.5 units per frame in total distance.\n",
    "\n",
    "first 3 elements of state correspond to elbow position.\n",
    "\n",
    "\n",
    "\n",
    "# eh we don't need parallelenv. delete. rename pong_utils.py too."
   ]
  },
  {
   "cell_type": "code",
   "execution_count": 1,
   "metadata": {},
   "outputs": [
    {
     "name": "stdout",
     "output_type": "stream",
     "text": [
      "Using this device: cuda:0\n"
     ]
    }
   ],
   "source": [
    "from unityagents import UnityEnvironment\n",
    "import numpy as np\n",
    "import pong_utils\n",
    "import matplotlib\n",
    "import matplotlib.pyplot as plt\n",
    "import torch.optim as optim\n",
    "import math\n",
    "import torch\n",
    "from ddpg_agent import Agent\n",
    "from collections import deque\n",
    "%matplotlib inline\n",
    "\n",
    "import pdb\n",
    "d = pdb.set_trace\n"
   ]
  },
  {
   "cell_type": "markdown",
   "metadata": {},
   "source": [
    "Next, we will start the environment!  **_Before running the code cell below_**, change the `file_name` parameter to match the location of the Unity environment that you downloaded.\n",
    "\n",
    "- **Mac**: `\"path/to/Reacher.app\"`\n",
    "- **Windows** (x86): `\"path/to/Reacher_Windows_x86/Reacher.exe\"`\n",
    "- **Windows** (x86_64): `\"path/to/Reacher_Windows_x86_64/Reacher.exe\"`\n",
    "- **Linux** (x86): `\"path/to/Reacher_Linux/Reacher.x86\"`\n",
    "- **Linux** (x86_64): `\"path/to/Reacher_Linux/Reacher.x86_64\"`\n",
    "- **Linux** (x86, headless): `\"path/to/Reacher_Linux_NoVis/Reacher.x86\"`\n",
    "- **Linux** (x86_64, headless): `\"path/to/Reacher_Linux_NoVis/Reacher.x86_64\"`\n",
    "\n",
    "For instance, if you are using a Mac, then you downloaded `Reacher.app`.  If this file is in the same folder as the notebook, then the line below should appear as follows:\n",
    "```\n",
    "env = UnityEnvironment(file_name=\"Reacher.app\")\n",
    "```"
   ]
  },
  {
   "cell_type": "code",
   "execution_count": 2,
   "metadata": {},
   "outputs": [
    {
     "name": "stderr",
     "output_type": "stream",
     "text": [
      "INFO:unityagents:\n",
      "'Academy' started successfully!\n",
      "Unity Academy name: Academy\n",
      "        Number of Brains: 1\n",
      "        Number of External Brains : 1\n",
      "        Lesson number : 0\n",
      "        Reset Parameters :\n",
      "\t\tgoal_speed -> 1.0\n",
      "\t\tgoal_size -> 5.0\n",
      "Unity brain name: ReacherBrain\n",
      "        Number of Visual Observations (per agent): 0\n",
      "        Vector Observation space type: continuous\n",
      "        Vector Observation space size (per agent): 33\n",
      "        Number of stacked Vector Observation: 1\n",
      "        Vector Action space type: continuous\n",
      "        Vector Action space size (per agent): 4\n",
      "        Vector Action descriptions: , , , \n"
     ]
    }
   ],
   "source": [
    "env = UnityEnvironment(file_name='D:/Documents/GitHub/drlnd3/deep-reinforcement-learning/p2_continuous-control/Reacher_Windows_x86_64/Reacher.exe')"
   ]
  },
  {
   "cell_type": "markdown",
   "metadata": {},
   "source": [
    "Environments contain **_brains_** which are responsible for deciding the actions of their associated agents. Here we check for the first brain available, and set it as the default brain we will be controlling from Python."
   ]
  },
  {
   "cell_type": "code",
   "execution_count": 3,
   "metadata": {},
   "outputs": [],
   "source": [
    "# get the default brain\n",
    "brain_name = env.brain_names[0]\n",
    "brain = env.brains[brain_name]"
   ]
  },
  {
   "cell_type": "code",
   "execution_count": 4,
   "metadata": {},
   "outputs": [],
   "source": [
    "\n",
    "agent = Agent(state_size=29, action_size=4, random_seed=177961)"
   ]
  },
  {
   "cell_type": "markdown",
   "metadata": {},
   "source": [
    "### 2. Examine the State and Action Spaces\n",
    "\n",
    "In this environment, a double-jointed arm can move to target locations. A reward of `+0.1` is provided for each step that the agent's hand is in the goal location. Thus, the goal of your agent is to maintain its position at the target location for as many time steps as possible.\n",
    "\n",
    "The observation space consists of `33` variables corresponding to position, rotation, velocity, and angular velocities of the arm.  Each action is a vector with four numbers, corresponding to torque applicable to two joints.  Every entry in the action vector must be a number between `-1` and `1`.\n",
    "\n",
    "Run the code cell below to print some information about the environment."
   ]
  },
  {
   "cell_type": "code",
   "execution_count": 5,
   "metadata": {},
   "outputs": [
    {
     "data": {
      "text/plain": [
       "\"\\n# reset the environment\\nenv_info = env.reset(train_mode=True)[brain_name]\\n\\n# number of agents\\nnum_agents = len(env_info.agents)\\nprint('Number of agents:', num_agents)\\n\\n# size of each action\\naction_size = brain.vector_action_space_size\\nprint('Size of each action:', action_size)\\n\\n# examine the state space \\nstates = env_info.vector_observations\\nstate_size = states.shape[1]\\nprint('There are {} agents. Each observes a state with length: {}'.format(states.shape[0], state_size))\\nprint('The state for the first agent looks like:', states[0])\\n\""
      ]
     },
     "execution_count": 5,
     "metadata": {},
     "output_type": "execute_result"
    }
   ],
   "source": [
    "'''\n",
    "# reset the environment\n",
    "env_info = env.reset(train_mode=True)[brain_name]\n",
    "\n",
    "# number of agents\n",
    "num_agents = len(env_info.agents)\n",
    "print('Number of agents:', num_agents)\n",
    "\n",
    "# size of each action\n",
    "action_size = brain.vector_action_space_size\n",
    "print('Size of each action:', action_size)\n",
    "\n",
    "# examine the state space \n",
    "states = env_info.vector_observations\n",
    "state_size = states.shape[1]\n",
    "print('There are {} agents. Each observes a state with length: {}'.format(states.shape[0], state_size))\n",
    "print('The state for the first agent looks like:', states[0])\n",
    "'''"
   ]
  },
  {
   "cell_type": "markdown",
   "metadata": {},
   "source": [
    "### 3. Take Random Actions in the Environment\n",
    "\n",
    "\n",
    "# keep this code. might be useful later for simulating the weights directly. rmb u got 2 weights to load. also rmb set train mode to false"
   ]
  },
  {
   "cell_type": "code",
   "execution_count": 6,
   "metadata": {},
   "outputs": [],
   "source": [
    "def preprocess_state(state):\n",
    "    state = np.delete(state, 31, 1)\n",
    "    state = np.delete(state, 30, 1)\n",
    "    state = np.delete(state, 29, 1)\n",
    "    state = np.delete(state, 27, 1)\n",
    "    return state"
   ]
  },
  {
   "cell_type": "code",
   "execution_count": 7,
   "metadata": {},
   "outputs": [],
   "source": [
    "\n",
    "def untraining_run():\n",
    "    env_info = env.reset(train_mode=False)[brain_name]     # reset the environment    \n",
    "    state = preprocess_state(env_info.vector_observations)                  # get the current state (for each agent)\n",
    "    agent.reset()\n",
    "    score = 0                               # initialize the score (for each agent)\n",
    "    while True:\n",
    "        #action = np.random.randn(1, 4) # select an action (for each agent)\n",
    "        action = agent.act(state)\n",
    "        #action = np.array([0.15, 0.15, 0.15, 0.15])\n",
    "        np.set_printoptions(precision=2, suppress=True)\n",
    "        print('\\r', state[0][1:4], state[0][26:28], end='')\n",
    "        \n",
    "        action = np.clip(action, -1, 1)                  # all actions between -1 and 1\n",
    "        env_info = env.step(action)[brain_name]           # send all actions to tne environment\n",
    "        env_info = env.step(np.zeros(4))[brain_name]           # send all actions to tne environment\n",
    "        env_info = env.step(np.zeros(4))[brain_name]           # send all actions to tne environment\n",
    "        next_state = preprocess_state(env_info.vector_observations)         # get next state (for each agent)\n",
    "        reward = env_info.rewards[0]                         # get reward (for each agent)\n",
    "        done = env_info.local_done                        # see if episode finished\n",
    "        \n",
    "        \n",
    "        \n",
    "        \n",
    "        state = next_state                               # roll over states to next time step\n",
    "        score += reward                                   # update the score (for each agent)\n",
    "        if np.any(done):                                  # exit loop if episode finished\n",
    "            break\n",
    "    print('\\n', score)\n",
    "\n",
    "#untraining_run()\n"
   ]
  },
  {
   "cell_type": "markdown",
   "metadata": {},
   "source": [
    "When finished, you can close the environment."
   ]
  },
  {
   "cell_type": "code",
   "execution_count": 8,
   "metadata": {},
   "outputs": [],
   "source": [
    "#env.close()"
   ]
  },
  {
   "cell_type": "markdown",
   "metadata": {},
   "source": [
    "### 4. It's Your Turn!\n",
    "\n",
    "Now it's your turn to train your own agent to solve the environment!  When training the environment, set `train_mode=True`, so that the line for resetting the environment looks like the following:\n",
    "```python\n",
    "env_info = env.reset(train_mode=True)[brain_name]\n",
    "```"
   ]
  },
  {
   "cell_type": "code",
   "execution_count": null,
   "metadata": {},
   "outputs": [
    {
     "name": "stderr",
     "output_type": "stream",
     "text": [
      "d:\\documents\\github\\drlnd3\\env\\lib\\site-packages\\torch\\nn\\functional.py:1794: UserWarning: nn.functional.tanh is deprecated. Use torch.tanh instead.\n",
      "  warnings.warn(\"nn.functional.tanh is deprecated. Use torch.tanh instead.\")\n"
     ]
    },
    {
     "name": "stdout",
     "output_type": "stream",
     "text": [
      "Episode 100\tAverage Score: 0.64079999\tScore: 0.88\n",
      "Episode 200\tAverage Score: 0.77919998\tScore: 0.19\n",
      "Episode 300\tAverage Score: 0.68929998\tScore: 0.81\n",
      "Episode 400\tAverage Score: 0.50459999\tScore: 0.50\n",
      "Episode 500\tAverage Score: 0.70759998\tScore: 0.43\n",
      "Episode 600\tAverage Score: 0.47639999\tScore: 0.54\n",
      "Episode 700\tAverage Score: 1.04459998\tScore: 1.50\n",
      "Episode 800\tAverage Score: 1.37569997\tScore: 0.67\n",
      "Episode 900\tAverage Score: 1.43419997\tScore: 1.63\n",
      "Episode 1000\tAverage Score: 1.40269997\tScore: 1.47\n",
      "Episode 1100\tAverage Score: 1.38789997\tScore: 0.86\n",
      "Episode 1200\tAverage Score: 1.37889997\tScore: 1.62\n",
      "Episode 1300\tAverage Score: 1.36189997\tScore: 1.08\n",
      "Episode 1400\tAverage Score: 1.33539997\tScore: 1.52\n",
      "Episode 1500\tAverage Score: 1.32169997\tScore: 0.84\n",
      "Episode 1600\tAverage Score: 1.31239997\tScore: 1.53\n",
      "Episode 1700\tAverage Score: 1.32829997\tScore: 1.40\n",
      "Episode 1800\tAverage Score: 1.36079997\tScore: 1.02\n",
      "Episode 1900\tAverage Score: 1.23089997\tScore: 1.60\n",
      "Episode 2000\tAverage Score: 1.21909997\tScore: 0.79\n",
      "Episode 2100\tAverage Score: 1.26539997\tScore: 1.94\n",
      "Episode 2200\tAverage Score: 1.12289997\tScore: 1.01\n",
      "Episode 2300\tAverage Score: 1.19909997\tScore: 0.89\n",
      "Episode 2400\tAverage Score: 1.15559997\tScore: 1.87\n",
      "Episode 2500\tAverage Score: 1.23489997\tScore: 0.86\n",
      "Episode 2600\tAverage Score: 1.17339997\tScore: 1.45\n",
      "Episode 2700\tAverage Score: 1.08899998\tScore: 0.72\n",
      "Episode 2800\tAverage Score: 1.20979997\tScore: 1.06\n",
      "Episode 2900\tAverage Score: 1.18889997\tScore: 0.93\n",
      "Episode 3000\tAverage Score: 1.22649997\tScore: 1.61\n",
      "Episode 3100\tAverage Score: 1.27679997\tScore: 0.91\n",
      "Episode 3200\tAverage Score: 1.07759998\tScore: 1.49\n",
      "Episode 3300\tAverage Score: 1.11279998\tScore: 1.23\n",
      "Episode 3400\tAverage Score: 1.11499998\tScore: 1.39\n",
      "Episode 3500\tAverage Score: 1.14829997\tScore: 0.38\n",
      "Episode 3600\tAverage Score: 1.14219997\tScore: 1.34\n",
      "Episode 3700\tAverage Score: 1.13829997\tScore: 1.36\n",
      "Episode 3800\tAverage Score: 1.13659997\tScore: 1.06\n",
      "Episode 3900\tAverage Score: 1.13909997\tScore: 1.08\n",
      "Episode 3999\tAverage Score: 1.12549997\tScore: 1.17"
     ]
    }
   ],
   "source": [
    "def ddpg():\n",
    "    scores_deque = deque(maxlen=100)\n",
    "    scores = []\n",
    "    i_episode = 0\n",
    "    while True:\n",
    "        i_episode += 1\n",
    "        episode_step = 0\n",
    "        env_info = env.reset(train_mode=i_episode%200!=0)[brain_name]     # reset the environment; visualize every 100th episode\n",
    "        state = preprocess_state(env_info.vector_observations)                  # get the current state (for each agent)\n",
    "        agent.reset()\n",
    "        score = 0\n",
    "        while True:\n",
    "            episode_step += 1\n",
    "            action = agent.act(state)\n",
    "            env_info = env.step(action)[brain_name]           # send all actions to tne environment\n",
    "            env_info = env.step(np.zeros(4))[brain_name]           # send all actions to tne environment\n",
    "            env_info = env.step(np.zeros(4))[brain_name]           # send all actions to tne environment\n",
    "            next_state = preprocess_state(env_info.vector_observations)         # get next state (for each agent)\n",
    "            reward = env_info.rewards[0]                         # get reward (for each agent)\n",
    "            done = env_info.local_done[0]                        # see if episode finished\n",
    "            \n",
    "            agent.step(state, action, reward, next_state, done)\n",
    "            state = next_state\n",
    "            score += reward\n",
    "            if done:\n",
    "                break \n",
    "        scores_deque.append(score)\n",
    "        scores.append(score)\n",
    "        print('\\rEpisode {}\\tAverage Score: {:.8f}\\tScore: {:.2f}'.format(i_episode, np.mean(scores_deque), score), end=\"\")\n",
    "        if i_episode % 100 == 0:\n",
    "            torch.save(agent.actor_local.state_dict(), 'checkpoint_actor.pth')\n",
    "            torch.save(agent.critic_local.state_dict(), 'checkpoint_critic.pth')\n",
    "            print('\\rEpisode {}\\tAverage Score: {:.2f}'.format(i_episode, np.mean(scores_deque)))\n",
    "        if sum(scores_deque) / len(scores_deque) >= 30:\n",
    "            break\n",
    "    return scores\n",
    "\n",
    "scores = ddpg()\n",
    "\n",
    "fig = plt.figure()\n",
    "ax = fig.add_subplot(111)\n",
    "plt.plot(np.arange(1, len(scores)+1), scores)\n",
    "plt.ylabel('Score')\n",
    "plt.xlabel('Episode #')\n",
    "plt.show()"
   ]
  },
  {
   "cell_type": "code",
   "execution_count": null,
   "metadata": {},
   "outputs": [],
   "source": []
  },
  {
   "cell_type": "code",
   "execution_count": null,
   "metadata": {},
   "outputs": [],
   "source": []
  },
  {
   "cell_type": "code",
   "execution_count": null,
   "metadata": {},
   "outputs": [],
   "source": [
    "# save your policy!\n",
    "#torch.save(policy, 'PPO.policy')\n",
    "\n",
    "# load policy if needed\n",
    "# policy = torch.load('PPO.policy')\n"
   ]
  }
 ],
 "metadata": {
  "kernelspec": {
   "display_name": "Python 3",
   "language": "python",
   "name": "python3"
  },
  "language_info": {
   "codemirror_mode": {
    "name": "ipython",
    "version": 3
   },
   "file_extension": ".py",
   "mimetype": "text/x-python",
   "name": "python",
   "nbconvert_exporter": "python",
   "pygments_lexer": "ipython3",
   "version": "3.6.13"
  }
 },
 "nbformat": 4,
 "nbformat_minor": 2
}
